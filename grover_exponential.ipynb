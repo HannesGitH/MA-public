{
 "cells": [
  {
   "cell_type": "code",
   "execution_count": 313,
   "metadata": {},
   "outputs": [],
   "source": [
    "from qiskit import QuantumCircuit, transpile\n",
    "from qiskit import BasicAer, assemble\n",
    "from qiskit.visualization import plot_histogram\n",
    "from qaci.blocks.mcz import mcz\n",
    "from qaci.helpers.bools import int_to_boollist\n",
    "import math\n",
    "import matplotlib.pyplot as plt"
   ]
  },
  {
   "cell_type": "code",
   "execution_count": 314,
   "metadata": {},
   "outputs": [],
   "source": [
    "\n",
    "def diffuser(nqubits, asGate:bool = True):\n",
    "    qc = QuantumCircuit(nqubits)\n",
    "    # Apply transformation |s> -> |00..0> (H-gates)\n",
    "    for qubit in range(nqubits):\n",
    "        qc.h(qubit)\n",
    "    # Apply transformation |00..0> -> |11..1> (X-gates)\n",
    "    for qubit in range(nqubits):\n",
    "        qc.x(qubit)\n",
    "    # Do multi-controlled-Z gate\n",
    "    qc.h(nqubits-1)\n",
    "    qc.mct(list(range(nqubits-1)), nqubits-1)  # multi-controlled-toffoli\n",
    "    qc.h(nqubits-1)\n",
    "    # Apply transformation |11..1> -> |00..0>\n",
    "    for qubit in range(nqubits):\n",
    "        qc.x(qubit)\n",
    "    # Apply transformation |00..0> -> |s>\n",
    "    for qubit in range(nqubits):\n",
    "        qc.h(qubit)\n",
    "    # We will return the diffuser as a gate\n",
    "    if asGate:\n",
    "        U_s = qc.to_gate()\n",
    "        U_s.name = \"diffuser\"\n",
    "        return U_s\n",
    "    return qc"
   ]
  },
  {
   "cell_type": "code",
   "execution_count": 315,
   "metadata": {},
   "outputs": [],
   "source": [
    "# def x_diffusers( x:int, nqubits:int=3):\n",
    "#     qc = QuantumCircuit(nqubits)\n",
    "#     for _ in range(x):\n",
    "#         qc.append(diffuser(nqubits), range(nqubits))\n",
    "    \n",
    "#     return transpile(qc, optimization_level=3)\n",
    "\n",
    "# # import matplotlib.pyplot as plt\n",
    "# # plt.plot([len(x_diffusers(x)) for x in range(1, 10)])\n",
    "# # plt.ylabel('circuit complexity')\n",
    "# # plt.show()\n",
    "\n",
    "# x_diffusers(3).draw()"
   ]
  },
  {
   "cell_type": "code",
   "execution_count": 316,
   "metadata": {},
   "outputs": [],
   "source": [
    "def sample_oracle(nqubits, marked_states:int=1, asGate:bool = True):\n",
    "    qc = QuantumCircuit(nqubits)\n",
    "    for i in range(marked_states):\n",
    "        not_gates_at = int_to_boollist(i)\n",
    "        for pos, val in enumerate(not_gates_at):\n",
    "            if val:\n",
    "                qc.x(pos)\n",
    "        qc.append(mcz(nqubits), range(nqubits))  # multi-controlled-z (we mark the 111111.. state)\n",
    "        for pos, val in enumerate(not_gates_at):\n",
    "            if val:\n",
    "                qc.x(pos)\n",
    "\n",
    "    if asGate:\n",
    "        U_s = qc.to_gate()\n",
    "        U_s.name = \"oracle\"\n",
    "        return U_s\n",
    "    return qc"
   ]
  },
  {
   "cell_type": "code",
   "execution_count": 317,
   "metadata": {},
   "outputs": [],
   "source": [
    "def amp_amp(sample_oracle, marked_states:int = 1, nqubits:int=3, ):\n",
    "    qc = QuantumCircuit(nqubits)\n",
    "    qc.h(range(nqubits))\n",
    "    if marked_states > 0:\n",
    "        i = 0\n",
    "        while i <= math.sqrt(2**nqubits/marked_states)*math.pi/4:\n",
    "            qc.append(sample_oracle(nqubits), range(nqubits))\n",
    "            qc.append(diffuser(nqubits), range(nqubits))\n",
    "            i += 1\n",
    "    # qc.measure_all()\n",
    "    return qc\n"
   ]
  },
  {
   "cell_type": "code",
   "execution_count": 318,
   "metadata": {},
   "outputs": [],
   "source": [
    "nqubits=4\n",
    "circuit = amp_amp(sample_oracle,nqubits)"
   ]
  },
  {
   "cell_type": "code",
   "execution_count": 319,
   "metadata": {},
   "outputs": [
    {
     "data": {
      "text/html": [
       "<pre style=\"word-wrap: normal;white-space: pre;background: #fff0;line-height: 1.1;font-family: &quot;Courier New&quot;,Courier,monospace\">     ┌───┐┌─────────┐┌───────────┐┌─────────┐┌───────────┐\n",
       "q_0: ┤ H ├┤0        ├┤0          ├┤0        ├┤0          ├\n",
       "     ├───┤│         ││           ││         ││           │\n",
       "q_1: ┤ H ├┤1 oracle ├┤1 diffuser ├┤1 oracle ├┤1 diffuser ├\n",
       "     ├───┤│         ││           ││         ││           │\n",
       "q_2: ┤ H ├┤2        ├┤2          ├┤2        ├┤2          ├\n",
       "     └───┘└─────────┘└───────────┘└─────────┘└───────────┘</pre>"
      ],
      "text/plain": [
       "     ┌───┐┌─────────┐┌───────────┐┌─────────┐┌───────────┐\n",
       "q_0: ┤ H ├┤0        ├┤0          ├┤0        ├┤0          ├\n",
       "     ├───┤│         ││           ││         ││           │\n",
       "q_1: ┤ H ├┤1 oracle ├┤1 diffuser ├┤1 oracle ├┤1 diffuser ├\n",
       "     ├───┤│         ││           ││         ││           │\n",
       "q_2: ┤ H ├┤2        ├┤2          ├┤2        ├┤2          ├\n",
       "     └───┘└─────────┘└───────────┘└─────────┘└───────────┘"
      ]
     },
     "execution_count": 319,
     "metadata": {},
     "output_type": "execute_result"
    }
   ],
   "source": [
    "circuit.draw()"
   ]
  },
  {
   "cell_type": "code",
   "execution_count": 320,
   "metadata": {},
   "outputs": [],
   "source": [
    "def unitary_transpile(circuit):    \n",
    "    sim =  BasicAer.get_backend(\"unitary_simulator\")\n",
    "    result = sim.run(assemble(transpile(circuit, sim))).result()\n",
    "    unitary = result.get_unitary()\n",
    "    nqubits = len(circuit.qubits)#int(math.log2(unitary.shape[0]))\n",
    "    uCircuit = QuantumCircuit(nqubits)\n",
    "    uCircuit.unitary(unitary, range(nqubits))\n",
    "    tuCircuit = transpile(uCircuit, optimization_level=3)\n",
    "    return tuCircuit\n",
    "\n"
   ]
  },
  {
   "cell_type": "code",
   "execution_count": 321,
   "metadata": {},
   "outputs": [
    {
     "data": {
      "text/html": [
       "<pre style=\"word-wrap: normal;white-space: pre;background: #fff0;line-height: 1.1;font-family: &quot;Courier New&quot;,Courier,monospace\">     ┌─────────────────┐                                            »\n",
       "q_0: ┤0                ├──■──────────────────────────────────────■──»\n",
       "     │  circuit-226342 │  │                                      │  »\n",
       "q_1: ┤1                ├──┼───────────────────■──────────────────┼──»\n",
       "     └─┬──────────────┬┘┌─┴─┐┌─────────────┐┌─┴─┐┌────────────┐┌─┴─┐»\n",
       "q_2: ──┤ U(0,0,-3π/4) ├─┤ X ├┤ U(0,0,-π/4) ├┤ X ├┤ U(0,0,π/4) ├┤ X ├»\n",
       "       └──────────────┘ └───┘└─────────────┘└───┘└────────────┘└───┘»\n",
       "«                         ┌─────────────────┐                                  »\n",
       "«q_0: ────────────────────┤0                ├─────────────────■────────────────»\n",
       "«                         │  circuit-226351 │                 │                »\n",
       "«q_1: ─────────────────■──┤1                ├─────────────────┼────────────────»\n",
       "«     ┌─────────────┐┌─┴─┐├─────────────────┴┐┌────────────┐┌─┴─┐┌────────────┐»\n",
       "«q_2: ┤ U(0,0,-π/4) ├┤ X ├┤ U(7π/12,0.0,0.0) ├┤ U(π/2,0,π) ├┤ X ├┤ U(π/2,0,π) ├»\n",
       "«     └─────────────┘└───┘└──────────────────┘└────────────┘└───┘└────────────┘»\n",
       "«                                                                       »\n",
       "«q_0: ──────────────────────────────────────────────────────────────────»\n",
       "«                                                                       »\n",
       "«q_1: ─────────────────────────────────────────────────■────────────────»\n",
       "«     ┌───────────────────────────────┐┌────────────┐┌─┴─┐┌────────────┐»\n",
       "«q_2: ┤ U(-0.361367123906708,0.0,0.0) ├┤ U(π/2,0,π) ├┤ X ├┤ U(π/2,0,π) ├»\n",
       "«     └───────────────────────────────┘└────────────┘└───┘└────────────┘»\n",
       "«                                           ┌─────────────────┐»\n",
       "«q_0: ───────────────────────────────────■──┤0                ├»\n",
       "«                                        │  │  circuit-226360 │»\n",
       "«q_1: ───────────────────────────────────┼──┤1                ├»\n",
       "«     ┌─────────────────┐┌────────────┐┌─┴─┐└──┬────────────┬─┘»\n",
       "«q_2: ┤ U(π/12,0.0,0.0) ├┤ U(π/2,0,π) ├┤ X ├───┤ U(π/2,0,π) ├──»\n",
       "«     └─────────────────┘└────────────┘└───┘   └────────────┘  »\n",
       "«                                                                            »\n",
       "«q_0: ─────────────────────────────────────────────────■─────────────────────»\n",
       "«                                                      │                     »\n",
       "«q_1: ─────────────────────────────────────────────────┼──────────────────■──»\n",
       "«     ┌───────────────────────────────┐┌────────────┐┌─┴─┐┌────────────┐┌─┴─┐»\n",
       "«q_2: ┤ U(-0.361367123906708,0.0,0.0) ├┤ U(0,0,π/4) ├┤ X ├┤ U(0,0,π/4) ├┤ X ├»\n",
       "«     └───────────────────────────────┘└────────────┘└───┘└────────────┘└───┘»\n",
       "«                                                                      »\n",
       "«q_0: ──────────────────────────────■──────────────────────────────────»\n",
       "«                                   │                                  »\n",
       "«q_1: ──────────────────────────────┼───────────────────────────────■──»\n",
       "«     ┌──────────────────────────┐┌─┴─┐┌─────────────────────────┐┌─┴─┐»\n",
       "«q_2: ┤ U(0,0,0.428535973925065) ├┤ X ├┤ U(0,0,1.14226035286983) ├┤ X ├»\n",
       "«     └──────────────────────────┘└───┘└─────────────────────────┘└───┘»\n",
       "«     ┌─────────────────┐\n",
       "«q_0: ┤0                ├\n",
       "«     │  circuit-226371 │\n",
       "«q_1: ┤1                ├\n",
       "«     └─────────────────┘\n",
       "«q_2: ───────────────────\n",
       "«                        </pre>"
      ],
      "text/plain": [
       "     ┌─────────────────┐                                            »\n",
       "q_0: ┤0                ├──■──────────────────────────────────────■──»\n",
       "     │  circuit-226342 │  │                                      │  »\n",
       "q_1: ┤1                ├──┼───────────────────■──────────────────┼──»\n",
       "     └─┬──────────────┬┘┌─┴─┐┌─────────────┐┌─┴─┐┌────────────┐┌─┴─┐»\n",
       "q_2: ──┤ U(0,0,-3π/4) ├─┤ X ├┤ U(0,0,-π/4) ├┤ X ├┤ U(0,0,π/4) ├┤ X ├»\n",
       "       └──────────────┘ └───┘└─────────────┘└───┘└────────────┘└───┘»\n",
       "«                         ┌─────────────────┐                                  »\n",
       "«q_0: ────────────────────┤0                ├─────────────────■────────────────»\n",
       "«                         │  circuit-226351 │                 │                »\n",
       "«q_1: ─────────────────■──┤1                ├─────────────────┼────────────────»\n",
       "«     ┌─────────────┐┌─┴─┐├─────────────────┴┐┌────────────┐┌─┴─┐┌────────────┐»\n",
       "«q_2: ┤ U(0,0,-π/4) ├┤ X ├┤ U(7π/12,0.0,0.0) ├┤ U(π/2,0,π) ├┤ X ├┤ U(π/2,0,π) ├»\n",
       "«     └─────────────┘└───┘└──────────────────┘└────────────┘└───┘└────────────┘»\n",
       "«                                                                       »\n",
       "«q_0: ──────────────────────────────────────────────────────────────────»\n",
       "«                                                                       »\n",
       "«q_1: ─────────────────────────────────────────────────■────────────────»\n",
       "«     ┌───────────────────────────────┐┌────────────┐┌─┴─┐┌────────────┐»\n",
       "«q_2: ┤ U(-0.361367123906708,0.0,0.0) ├┤ U(π/2,0,π) ├┤ X ├┤ U(π/2,0,π) ├»\n",
       "«     └───────────────────────────────┘└────────────┘└───┘└────────────┘»\n",
       "«                                           ┌─────────────────┐»\n",
       "«q_0: ───────────────────────────────────■──┤0                ├»\n",
       "«                                        │  │  circuit-226360 │»\n",
       "«q_1: ───────────────────────────────────┼──┤1                ├»\n",
       "«     ┌─────────────────┐┌────────────┐┌─┴─┐└──┬────────────┬─┘»\n",
       "«q_2: ┤ U(π/12,0.0,0.0) ├┤ U(π/2,0,π) ├┤ X ├───┤ U(π/2,0,π) ├──»\n",
       "«     └─────────────────┘└────────────┘└───┘   └────────────┘  »\n",
       "«                                                                            »\n",
       "«q_0: ─────────────────────────────────────────────────■─────────────────────»\n",
       "«                                                      │                     »\n",
       "«q_1: ─────────────────────────────────────────────────┼──────────────────■──»\n",
       "«     ┌───────────────────────────────┐┌────────────┐┌─┴─┐┌────────────┐┌─┴─┐»\n",
       "«q_2: ┤ U(-0.361367123906708,0.0,0.0) ├┤ U(0,0,π/4) ├┤ X ├┤ U(0,0,π/4) ├┤ X ├»\n",
       "«     └───────────────────────────────┘└────────────┘└───┘└────────────┘└───┘»\n",
       "«                                                                      »\n",
       "«q_0: ──────────────────────────────■──────────────────────────────────»\n",
       "«                                   │                                  »\n",
       "«q_1: ──────────────────────────────┼───────────────────────────────■──»\n",
       "«     ┌──────────────────────────┐┌─┴─┐┌─────────────────────────┐┌─┴─┐»\n",
       "«q_2: ┤ U(0,0,0.428535973925065) ├┤ X ├┤ U(0,0,1.14226035286983) ├┤ X ├»\n",
       "«     └──────────────────────────┘└───┘└─────────────────────────┘└───┘»\n",
       "«     ┌─────────────────┐\n",
       "«q_0: ┤0                ├\n",
       "«     │  circuit-226371 │\n",
       "«q_1: ┤1                ├\n",
       "«     └─────────────────┘\n",
       "«q_2: ───────────────────\n",
       "«                        "
      ]
     },
     "execution_count": 321,
     "metadata": {},
     "output_type": "execute_result"
    }
   ],
   "source": [
    "ucircuit = unitary_transpile(circuit)\n",
    "ucircuit.draw()\n"
   ]
  },
  {
   "cell_type": "code",
   "execution_count": 322,
   "metadata": {},
   "outputs": [
    {
     "data": {
      "image/png": "[encoded data removed]",
      "text/plain": [
       "<Figure size 504x360 with 1 Axes>"
      ]
     },
     "execution_count": 322,
     "metadata": {},
     "output_type": "execute_result"
    }
   ],
   "source": [
    "sim =  BasicAer.get_backend(\"qasm_simulator\")\n",
    "circuit.measure_all()\n",
    "result = sim.run(assemble(transpile(circuit, sim))).result()\n",
    "plot_histogram(result.get_counts())"
   ]
  },
  {
   "cell_type": "code",
   "execution_count": 323,
   "metadata": {},
   "outputs": [
    {
     "data": {
      "image/png": "[encoded data removed]",
      "text/plain": [
       "<Figure size 504x360 with 1 Axes>"
      ]
     },
     "execution_count": 323,
     "metadata": {},
     "output_type": "execute_result"
    }
   ],
   "source": [
    "sim =  BasicAer.get_backend(\"qasm_simulator\")\n",
    "ucircuit.measure_all()\n",
    "result = sim.run(assemble(transpile(ucircuit, sim))).result()\n",
    "plot_histogram(result.get_counts())"
   ]
  },
  {
   "cell_type": "code",
   "execution_count": 324,
   "metadata": {},
   "outputs": [],
   "source": [
    "def x_diffusers( x:int, nqubits:int=3):\n",
    "    qc = QuantumCircuit(nqubits)\n",
    "    for _ in range(x):\n",
    "        qc += diffuser(nqubits, asGate=False)\n",
    "    \n",
    "    return transpile(qc, optimization_level=0)\n",
    "\n",
    "\n",
    "# x_diffusers(3).draw()"
   ]
  },
  {
   "cell_type": "code",
   "execution_count": 325,
   "metadata": {},
   "outputs": [
    {
     "name": "stderr",
     "output_type": "stream",
     "text": [
      "/var/folders/36/cw997w5d6rlg1zg94lrrddl40000gn/T/ipykernel_63376/1671760714.py:4: DeprecationWarning: The QuantumCircuit.__iadd__() method is being deprecated. Use the compose() (potentially with the inplace=True argument) and tensor() methods which are more flexible w.r.t circuit register compatibility.\n",
      "  qc += diffuser(nqubits, asGate=False)\n"
     ]
    },
    {
     "data": {
      "image/png": "[encoded data removed]",
      "text/plain": [
       "<Figure size 432x288 with 1 Axes>"
      ]
     },
     "metadata": {
      "needs_background": "light"
     },
     "output_type": "display_data"
    }
   ],
   "source": [
    "x = range(10)\n",
    "y = [len(x_diffusers(ix)) for ix in x]\n",
    "y2 = [len(unitary_transpile(x_diffusers(ix))) for ix in x]\n",
    "fig, ax = plt.subplots()\n",
    "ax.plot(x,y)\n",
    "ax.plot(x,y2)\n",
    "plt.show()"
   ]
  },
  {
   "cell_type": "code",
   "execution_count": 326,
   "metadata": {},
   "outputs": [
    {
     "data": {
      "image/png": "[encoded data removed]",
      "text/plain": [
       "<Figure size 432x288 with 1 Axes>"
      ]
     },
     "metadata": {
      "needs_background": "light"
     },
     "output_type": "display_data"
    }
   ],
   "source": [
    "\n",
    "x = range(2**nqubits+1)\n",
    "circuits = [amp_amp(sample_oracle, ix,nqubits) for ix in x]\n",
    "y = [len(circuits[ix]) for ix in x]\n",
    "y2 = [len(unitary_transpile(circuits[ix])) for ix in x]\n",
    "fig, ax = plt.subplots()\n",
    "# ax.semilogy(x, y)\n",
    "# ax.semilogy(x, y2)\n",
    "ax.plot(x,y)\n",
    "ax.plot(x,y2)\n",
    "plt.show()"
   ]
  },
  {
   "cell_type": "code",
   "execution_count": 329,
   "metadata": {},
   "outputs": [
    {
     "data": {
      "text/plain": [
       "[<matplotlib.lines.Line2D at 0x29b8531c0>]"
      ]
     },
     "execution_count": 329,
     "metadata": {},
     "output_type": "execute_result"
    },
    {
     "data": {
      "image/png": "[encoded data removed]",
      "text/plain": [
       "<Figure size 432x288 with 1 Axes>"
      ]
     },
     "metadata": {
      "needs_background": "light"
     },
     "output_type": "display_data"
    }
   ],
   "source": [
    "start=2\n",
    "x = range(start,8)\n",
    "circuits = [amp_amp(sample_oracle, 1,ix) for ix in x]\n",
    "y = [len(circuits[ix-start]) for ix in x]\n",
    "y2 = [len(unitary_transpile(circuits[ix-start])) for ix in x]\n",
    "fig, ax = plt.subplots()\n",
    "ax.semilogy(x, y)\n",
    "ax.semilogy(x, y2)\n",
    "# ax.plot(x,y)\n",
    "# ax.plot(x,y2)"
   ]
  }
 ],
 "metadata": {
  "kernelspec": {
   "display_name": "Python 3.10.2 64-bit",
   "language": "python",
   "name": "python3"
  },
  "language_info": {
   "codemirror_mode": {
    "name": "ipython",
    "version": 3
   },
   "file_extension": ".py",
   "mimetype": "text/x-python",
   "name": "python",
   "nbconvert_exporter": "python",
   "pygments_lexer": "ipython3",
   "version": "3.10.2"
  },
  "orig_nbformat": 4,
  "vscode": {
   "interpreter": {
    "hash": "aee8b7b246df8f9039afb4144a1f6fd8d2ca17a180786b69acc140d282b71a49"
   }
  }
 },
 "nbformat": 4,
 "nbformat_minor": 2
}
